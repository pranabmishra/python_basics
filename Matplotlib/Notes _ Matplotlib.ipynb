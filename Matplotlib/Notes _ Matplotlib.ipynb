{
 "cells": [
  {
   "cell_type": "markdown",
   "metadata": {},
   "source": [
    "#### Advanced Visualization for Data Scientists with Matplotlib\n",
    "\n",
    "https://medium.com/sfu-cspmp/advanced-visualization-for-data-scientists-with-matplotlib-15c28863c41c"
   ]
  },
  {
   "cell_type": "markdown",
   "metadata": {},
   "source": [
    "    plt.figure(): To create a new figure\n",
    "    plt.plot(): Plot y versus x as lines and/or markers\n",
    "    plt.xlabel(): Set the label for the x-axis\n",
    "    plt.ylabel(): Set the label for the y-axis\n",
    "    plt.title(): Set a title for the axes\n",
    "    plt.grid(): Configure the grid lines\n",
    "    plt.legend(): Place a legend on the axes\n",
    "    plt.savefig(): To save the current figure on the disk\n",
    "    plt.show(): Display a figure\n",
    "    plt.clf(): Clear the current figure(useful to plot multiple figures in the same code)"
   ]
  },
  {
   "cell_type": "code",
   "execution_count": null,
   "metadata": {},
   "outputs": [],
   "source": []
  }
 ],
 "metadata": {
  "kernelspec": {
   "display_name": "Python 3",
   "language": "python",
   "name": "python3"
  },
  "language_info": {
   "codemirror_mode": {
    "name": "ipython",
    "version": 3
   },
   "file_extension": ".py",
   "mimetype": "text/x-python",
   "name": "python",
   "nbconvert_exporter": "python",
   "pygments_lexer": "ipython3",
   "version": "3.7.3"
  }
 },
 "nbformat": 4,
 "nbformat_minor": 2
}
